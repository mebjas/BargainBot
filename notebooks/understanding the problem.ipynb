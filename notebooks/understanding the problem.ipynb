{
 "cells": [
  {
   "cell_type": "markdown",
   "metadata": {},
   "source": [
    "# Bargain Bot\n",
    "\n",
    "Goal is to make a bot that can perform bargain with a real human and make deals. There are couple of things here:\n",
    "\n",
    " - Understanding human's input and get context out of it.\n",
    " - If the context matches the goal, see if it can fulfill bot's goal in short or long term.\n",
    " - Learn the process of bargaining\n",
    " - Generate the answer back to human\n",
    " - It the input is out of context, try and give a relevant answer."
   ]
  },
  {
   "cell_type": "markdown",
   "metadata": {},
   "source": [
    "### Experiment 1: Understanding\n",
    "#### I'll give you four bananas if you give me two mangos."
   ]
  },
  {
   "cell_type": "code",
   "execution_count": 3,
   "metadata": {
    "collapsed": true
   },
   "outputs": [],
   "source": [
    "input = \"I'll give you four bananas if you give me two mangos.\""
   ]
  },
  {
   "cell_type": "code",
   "execution_count": 35,
   "metadata": {},
   "outputs": [
    {
     "name": "stdout",
     "output_type": "stream",
     "text": [
      "Exception reporting mode: Verbose\n"
     ]
    }
   ],
   "source": [
    "# setting up the environment\n",
    "file_names=['gs', 'gswin32c.exe', 'gswin64c.exe']\n",
    "%xmode verbose\n",
    "\n",
    "import nltk\n",
    "from nltk.stem.snowball import SnowballStemmer\n"
   ]
  },
  {
   "cell_type": "code",
   "execution_count": null,
   "metadata": {
    "collapsed": true
   },
   "outputs": [],
   "source": [
    "tokens = nltk.word_tokenize(input)\n",
    "\n",
    "\n",
    "tokens"
   ]
  },
  {
   "cell_type": "code",
   "execution_count": 17,
   "metadata": {},
   "outputs": [
    {
     "data": {
      "text/plain": [
       "[('I', 'PRP'),\n",
       " (\"'ll\", 'MD'),\n",
       " ('give', 'VB'),\n",
       " ('you', 'PRP'),\n",
       " ('four', 'CD'),\n",
       " ('bananas', 'NNS'),\n",
       " ('if', 'IN'),\n",
       " ('you', 'PRP'),\n",
       " ('give', 'VBP'),\n",
       " ('me', 'PRP'),\n",
       " ('two', 'CD'),\n",
       " ('mangos', 'NNS'),\n",
       " ('.', '.')]"
      ]
     },
     "execution_count": 17,
     "metadata": {},
     "output_type": "execute_result"
    }
   ],
   "source": [
    "tagged = nltk.pos_tag(tokens)\n",
    "tagged"
   ]
  },
  {
   "cell_type": "code",
   "execution_count": 19,
   "metadata": {},
   "outputs": [
    {
     "name": "stdout",
     "output_type": "stream",
     "text": [
      "Tree('S', [('I', 'PRP'), (\"'ll\", 'MD'), ('give', 'VB'), ('you', 'PRP'), ('four', 'CD'), ('bananas', 'NNS'), ('if', 'IN'), ('you', 'PRP'), ('give', 'VBP'), ('me', 'PRP'), ('two', 'CD'), ('mangos', 'NNS'), ('.', '.')])\n"
     ]
    }
   ],
   "source": [
    "entities = nltk.chunk.ne_chunk(tagged)\n",
    "\n",
    "print ( entities.__repr__())"
   ]
  },
  {
   "cell_type": "code",
   "execution_count": 22,
   "metadata": {
    "collapsed": true
   },
   "outputs": [],
   "source": [
    "# defining the objects the bot has and how much fuck it gives about it. \n",
    "objects = {\"mango\": [10, 1], \"banana\": [10, 2]}"
   ]
  },
  {
   "cell_type": "code",
   "execution_count": 109,
   "metadata": {},
   "outputs": [
    {
     "name": "stdout",
     "output_type": "stream",
     "text": [
      "Tree('S', [('i', 'NN'), (\"'ll\", 'MD'), ('give', 'VB'), ('you', 'PRP'), ('two', 'CD'), ('bananas', 'NNS')])\n",
      "ADD banana 2\n",
      "Tree('S', [('i', 'NN'), (\"'ll\", 'MD'), ('give', 'VB'), ('you', 'PRP'), ('two', 'CD'), ('bananas', 'NNS')])\n",
      "SUB mango 3\n"
     ]
    }
   ],
   "source": [
    "## Lets start with easier statements and approach\n",
    "sentence1 = \"I'll give you two bananas\"\n",
    "sentence2 = \"you give me three mangos\"\n",
    "\n",
    "stemmer = SnowballStemmer(\"english\")\n",
    "\n",
    "numbers = {\"one\": 1, \"two\": 2, \"three\": 3, \"four\": 4, \"five\": 5, \"ten\" : 10}\n",
    "\n",
    "def getContext(tree):\n",
    "    global numbers\n",
    "    situation = None\n",
    "    entity = None\n",
    "    count = None\n",
    "    for word, wordType in tree:\n",
    "        word = stemmer.stem(word)\n",
    "        if (wordType == 'NNS'): \n",
    "            if word in objects:\n",
    "                entity = word\n",
    "            else:\n",
    "                entity = None\n",
    "                break\n",
    "\n",
    "        if (wordType == 'PRP' and word == 'you'): situation = \"ADD\"\n",
    "        elif(wordType == 'PRP' and word == 'me'): situation = \"SUB\"\n",
    "\n",
    "        if (wordType == 'CD' and word in numbers):\n",
    "            count = numbers[word]\n",
    "        elif (wordType == 'CD'):\n",
    "            count = None\n",
    "            break\n",
    "    return [situation, entity, count]\n",
    "        \n",
    "tree1 = nltk.chunk.ne_chunk(nltk.pos_tag(nltk.word_tokenize(sentence1.lower())))\n",
    "print (tree1.__repr__())\n",
    "situation, entity, count = getContext(tree1)\n",
    "print (situation, entity, count)\n",
    "\n",
    "tree2 = nltk.chunk.ne_chunk(nltk.pos_tag(nltk.word_tokenize(sentence2.lower())))\n",
    "print (tree1.__repr__())\n",
    "situation, entity, count = getContext(tree2)\n",
    "print (situation, entity, count)"
   ]
  },
  {
   "cell_type": "code",
   "execution_count": 110,
   "metadata": {
    "collapsed": true
   },
   "outputs": [],
   "source": [
    "def act(situation, entity, count):\n",
    "    global objects\n",
    "    if situation == \"ADD\":\n",
    "#         print (entity, objects[entity])\n",
    "        objects[entity][0] += count\n",
    "        print (\"Thanks for %d %ss\" % (count, entity))\n",
    "    if situation == \"SUB\":\n",
    "        if objects[entity][0] < count:\n",
    "            if objects[entity][0] == 0:\n",
    "                print (\"I have no %ss. Can't give you %d\" % (entity, count))\n",
    "            else:\n",
    "                print (\"I only have %d %ss. Can't give you %d\" % (objects[entity][0], entity, count))\n",
    "            return\n",
    "        objects[entity][0] -= count\n",
    "        print (\"Giving you %d %ss\" % (count, entity))\n",
    "        \n",
    "    print (\"Now I have:\")\n",
    "    for k, v in objects.items():\n",
    "        print (\"%s %ss\" % (v[0], k))"
   ]
  },
  {
   "cell_type": "code",
   "execution_count": 111,
   "metadata": {},
   "outputs": [
    {
     "name": "stdout",
     "output_type": "stream",
     "text": [
      "i'll give you two bananas\n",
      "Thanks for 2 bananas\n",
      "Now I have:\n",
      "18 mangos\n",
      "21 bananas\n"
     ]
    }
   ],
   "source": [
    "print (sentence1.lower())\n",
    "tree1 = nltk.chunk.ne_chunk(nltk.pos_tag(nltk.word_tokenize(sentence1.lower())))\n",
    "situation, entity, count = getContext(tree1)\n",
    "act (situation, entity, count)"
   ]
  },
  {
   "cell_type": "code",
   "execution_count": 112,
   "metadata": {},
   "outputs": [
    {
     "name": "stdout",
     "output_type": "stream",
     "text": [
      "you give me three mangos\n",
      "Giving you 3 mangos\n",
      "Now I have:\n",
      "15 mangos\n",
      "21 bananas\n"
     ]
    }
   ],
   "source": [
    "print (sentence2.lower())\n",
    "tree2 = nltk.chunk.ne_chunk(nltk.pos_tag(nltk.word_tokenize(sentence2.lower())))\n",
    "situation, entity, count = getContext(tree2)\n",
    "act (situation, entity, count)"
   ]
  },
  {
   "cell_type": "code",
   "execution_count": 113,
   "metadata": {
    "collapsed": true
   },
   "outputs": [],
   "source": [
    "def actOnSentense(sentence):\n",
    "    print (\"ASK: \", sentence)\n",
    "    print (\"ANSWER:\")\n",
    "    tree = nltk.chunk.ne_chunk(nltk.pos_tag(nltk.word_tokenize(sentence.lower())))\n",
    "    situation, entity, count = (getContext(tree))\n",
    "    if (situation == None):\n",
    "        return print (\"I dont understand the situation\")\n",
    "    if (entity == None):\n",
    "        return print (\"I don't have the knowledge about the entity you asking\")\n",
    "    if (count == None):\n",
    "        return print (\"Didn't get the count right\")\n",
    "    \n",
    "    act (situation, entity, count)\n",
    "    "
   ]
  },
  {
   "cell_type": "code",
   "execution_count": 130,
   "metadata": {},
   "outputs": [
    {
     "name": "stdout",
     "output_type": "stream",
     "text": [
      "ASK:  give me two mangos\n",
      "ANSWER:\n",
      "Giving you 2 mangos\n",
      "Now I have:\n",
      "38 mangos\n",
      "5 bananas\n"
     ]
    }
   ],
   "source": [
    "# let's try one simple example\n",
    "actOnSentense(\"give me two mangos\")"
   ]
  },
  {
   "cell_type": "code",
   "execution_count": 131,
   "metadata": {},
   "outputs": [
    {
     "name": "stdout",
     "output_type": "stream",
     "text": [
      "ASK:  fine I'll give you three mangos\n",
      "ANSWER:\n",
      "Thanks for 3 mangos\n",
      "Now I have:\n",
      "41 mangos\n",
      "5 bananas\n",
      "ASK:  fine I'll give you three mangos\n",
      "ANSWER:\n",
      "Thanks for 3 mangos\n",
      "Now I have:\n",
      "44 mangos\n",
      "5 bananas\n",
      "ASK:  fine I'll give you three mangos\n",
      "ANSWER:\n",
      "Thanks for 3 mangos\n",
      "Now I have:\n",
      "47 mangos\n",
      "5 bananas\n",
      "ASK:  give me ten bananas\n",
      "ANSWER:\n",
      "Didn't get the count right\n",
      "ASK:  give me three bananas\n",
      "ANSWER:\n",
      "Giving you 3 bananas\n",
      "Now I have:\n",
      "47 mangos\n",
      "2 bananas\n",
      "ASK:  give me three bananas\n",
      "ANSWER:\n",
      "I only have 2 bananas. Can't give you 3\n",
      "ASK:  give me three bananas\n",
      "ANSWER:\n",
      "I only have 2 bananas. Can't give you 3\n",
      "ASK:  give me five bananas\n",
      "ANSWER:\n",
      "I only have 2 bananas. Can't give you 5\n",
      "ASK:  giving you five bananas\n",
      "ANSWER:\n",
      "Thanks for 5 bananas\n",
      "Now I have:\n",
      "47 mangos\n",
      "7 bananas\n",
      "ASK:  giving you five mangos\n",
      "ANSWER:\n",
      "Thanks for 5 mangos\n",
      "Now I have:\n",
      "52 mangos\n",
      "7 bananas\n",
      "ASK:  give me five mango\n",
      "ANSWER:\n",
      "Giving you 5 mangos\n",
      "Now I have:\n",
      "47 mangos\n",
      "7 bananas\n"
     ]
    }
   ],
   "source": [
    "actOnSentense(\"fine I'll give you three mangos\")\n",
    "actOnSentense(\"fine I'll give you three mangos\")\n",
    "actOnSentense(\"fine I'll give you three mangos\")\n",
    "actOnSentense(\"give me ten bananas\")\n",
    "actOnSentense(\"give me three bananas\")\n",
    "actOnSentense(\"give me three bananas\")\n",
    "actOnSentense(\"give me three bananas\")\n",
    "actOnSentense(\"give me five bananas\")\n",
    "actOnSentense(\"giving you five bananas\")\n",
    "actOnSentense(\"giving you five mangos\")\n",
    "actOnSentense(\"give me five mango\")"
   ]
  },
  {
   "cell_type": "code",
   "execution_count": null,
   "metadata": {
    "collapsed": true
   },
   "outputs": [],
   "source": []
  }
 ],
 "metadata": {
  "kernelspec": {
   "display_name": "Python 3",
   "language": "python",
   "name": "python3"
  },
  "language_info": {
   "codemirror_mode": {
    "name": "ipython",
    "version": 3
   },
   "file_extension": ".py",
   "mimetype": "text/x-python",
   "name": "python",
   "nbconvert_exporter": "python",
   "pygments_lexer": "ipython3",
   "version": "3.5.2"
  }
 },
 "nbformat": 4,
 "nbformat_minor": 2
}
